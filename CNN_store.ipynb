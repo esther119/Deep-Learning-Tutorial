{
 "cells": [
  {
   "cell_type": "code",
   "execution_count": null,
   "metadata": {},
   "outputs": [],
   "source": [
    "from glob import glob\n",
    "from PIL import Image\n",
    "import cv2\n",
    "import os\n",
    "from sklearn.model_selection import train_test_split\n",
    "from sklearn.svm import LinearSVC\n",
    "\n",
    "\n",
    "\n",
    "# from resizeimage import resizeimage\n",
    "import numpy as np\n",
    "import matplotlib.pyplot as plt\n",
    "\n",
    "# blue_image_path = '/kaggle/input/gtzan-dataset-music-genre-classification/Data/images_original/blues'\n",
    "# classical_image_path = '/kaggle/input/gtzan-dataset-music-genre-classification/Data/images_original/classical'\n"
   ]
  },
  {
   "cell_type": "code",
   "execution_count": null,
   "metadata": {},
   "outputs": [],
   "source": [
    "\n",
    "input_dir = '/kaggle/input/gtzan-dataset-music-genre-classification/Data/images_original/'\n",
    "\n",
    "# Define input directory\n",
    "def process_images(path): \n",
    "    images = []\n",
    "    flattened = []\n",
    "    # Loop over all images in input directory\n",
    "    for filename in os.listdir(path):\n",
    "        # Load image\n",
    "        image_path = os.path.join(path, filename)\n",
    "        image = cv2.imread(image_path)\n",
    "        images.append(image)\n",
    "        flattened.append(np.array(image).flatten())   \n",
    "    X = np.asarray(flattened)        \n",
    "    return images, flattened, X\n",
    "\n",
    "\n",
    "def process_categories(input_dir):\n",
    "    X_categories = []\n",
    "    y_labels = []\n",
    "    \n",
    "\n",
    "    for i,subdir in enumerate(os.listdir(input_dir)):\n",
    "        images, flattened, X = process_images(os.path.join(input_dir, subdir))\n",
    "        X_categories.append(X)\n",
    "        y_labels.append(np.full(len(X), i))\n",
    "    X = np.vstack(X_categories)\n",
    "    y = np.concatenate(y_labels)\n",
    "    return X, y\n",
    "    \n",
    "\n",
    "X, y = process_categories(input_dir)\n"
   ]
  },
  {
   "cell_type": "code",
   "execution_count": null,
   "metadata": {},
   "outputs": [],
   "source": [
    "#plot the photos \n",
    "def original_photos(images):\n",
    "    fig, ax = plt.subplots(4, 6, figsize=(20, 16),\n",
    "                       subplot_kw={'xticks':[], 'yticks':[]},\n",
    "                       gridspec_kw=dict(hspace=0.1, wspace=0.1))\n",
    "\n",
    "    k = 0\n",
    "    for i in range(4):\n",
    "        for j in range(6):\n",
    "            ax[i, j].imshow(images[k])\n",
    "            k += 1\n",
    "            \n",
    "    plt.show()\n",
    "original_photos(images)        "
   ]
  },
  {
   "cell_type": "code",
   "execution_count": null,
   "metadata": {},
   "outputs": [],
   "source": [
    "#train test split\n",
    "X_train,X_test,y_train,y_test = train_test_split(X, y, test_size=0.20, random_state=123)\n",
    "print(f'There are {len(X_train)} training images, and {len(X_test)} testing images.' )"
   ]
  },
  {
   "cell_type": "code",
   "execution_count": null,
   "metadata": {},
   "outputs": [],
   "source": [
    "lsvc = LinearSVC(verbose=0)\n",
    "print(lsvc)\n",
    "\n",
    "lsvc.fit(X_train, y_train)\n",
    "score = lsvc.score(X_train, y_train)\n",
    "print(\"Score: \", score)"
   ]
  },
  {
   "cell_type": "code",
   "execution_count": null,
   "metadata": {},
   "outputs": [],
   "source": [
    "#prediction\n",
    "y_train_pred = lsvc.predict(X_train)\n",
    "\n",
    "train_score = classification_report(y_train, y_train_pred)\n",
    "print(train_score)\n",
    "\n",
    "#prediction\n",
    "y_pred = lsvc.predict(X_test)\n",
    "\n",
    "cr = classification_report(y_test, y_pred)\n",
    "print(cr)"
   ]
  }
 ],
 "metadata": {
  "language_info": {
   "name": "python"
  },
  "orig_nbformat": 4
 },
 "nbformat": 4,
 "nbformat_minor": 2
}
