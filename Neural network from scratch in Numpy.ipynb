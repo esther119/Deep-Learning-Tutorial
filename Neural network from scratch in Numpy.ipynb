{
 "cells": [
  {
   "cell_type": "code",
   "execution_count": 2,
   "metadata": {},
   "outputs": [],
   "source": [
    "import numpy as np\n",
    "import matplotlib.pyplot as plt\n",
    "from matplotlib.pyplot import figure"
   ]
  },
  {
   "cell_type": "code",
   "execution_count": 1,
   "metadata": {},
   "outputs": [],
   "source": [
    "import numpy as np\n",
    "\n",
    "class NeuralNetwork:\n",
    "    def __init__(self, input_size, hidden_size, output_size, learning_rate, x, y):\n",
    "        # initialize weights and biases\n",
    "        self.weights1 = np.random.randn(input_size, hidden_size)\n",
    "        self.weights2 = np.random.randn(hidden_size, output_size)\n",
    "        self.bias1 = np.random.randn(hidden_size)\n",
    "        self.bias2 = np.random.randn(output_size)\n",
    "        self.learning_rate = learning_rate\n",
    "        self.inputs = x \n",
    "        self.outputs = y\n",
    "        self.num_epochs = 1500\n",
    "        self.loss = []\n",
    "    \n",
    "    def sigmoid(self, x):\n",
    "        return 1 / (1 + np.exp(-x))\n",
    "    \n",
    "    def sigmoid_derivative(self, x):\n",
    "        return x * (1 - x)\n",
    "\n",
    "    def relu(self, x):\n",
    "        return(np.maximum(0, x))\n",
    "        \n",
    "    def relu_derivative(self, x):\n",
    "        x[x<=0] = 0\n",
    "        x[x>0] = 1\n",
    "        return x\n",
    "\n",
    "    def tanh(self, x):\n",
    "        return np.tanh(x)\n",
    "\n",
    "    def tanh_derivative(self, x):\n",
    "        return 1-np.tanh(x)**2\n",
    "    \n",
    "    def feedforward(self):\n",
    "        # feedforward through the first layer\n",
    "        self.layer1 = self.sigmoid(np.dot(self.inputs, self.weights1) + self.bias1)\n",
    "        # feedforward through the second layer\n",
    "        self.output_bar = self.sigmoid(np.dot(self.layer1, self.weights2) + self.bias2)\n",
    "        return self.output_bar\n",
    "    \n",
    "    def backprop(self):\n",
    "        # calculate the error for the output layer\n",
    "        output_error = self.outputs - self.output_bar\n",
    "        output_delta = output_error * self.sigmoid_derivative(self.output_bar)\n",
    "        # calculate the error for the hidden layer\n",
    "        hidden_error = np.dot(output_delta, self.weights2.T)\n",
    "        hidden_delta = hidden_error * self.sigmoid_derivative(self.layer1)\n",
    "        # update the weights and biases\n",
    "        self.weights2 += np.dot(self.layer1.T, output_delta) * self.learning_rate\n",
    "        self.weights1 += np.dot(self.inputs.T, hidden_delta) * self.learning_rate\n",
    "        self.bias2 += np.sum(output_delta) * self.learning_rate\n",
    "        self.bias1 += np.sum(hidden_delta) * self.learning_rate\n",
    "\n",
    "    \n",
    "    def loss_cal(self): \n",
    "        self.loss.append(np.mean(np.square(self.outputs - self.output_bar)))\n",
    "\n",
    "    def train(self):\n",
    "        \"\"\"\n",
    "        Train the neural network using the given inputs and outputs\n",
    "        inputs: array of inputs of shape (number of inputs, number of examples)\n",
    "        outputs: array of outputs of shape (number of outputs, number of examples)\n",
    "        learning_rate: float, the learning rate to use for the update\n",
    "        num_epochs: int, the number of times to train the network on the entire dataset\n",
    "        \"\"\"\n",
    "        for epoch in range(self.num_epochs):\n",
    "            # Feedforward and backpropagation\n",
    "            self.feedforward()\n",
    "            self.backprop()\n",
    "            self.loss_cal()\n"
   ]
  },
  {
   "attachments": {},
   "cell_type": "markdown",
   "metadata": {},
   "source": [
    "```np.random.randn```: Randomly initialize weights and bias following a normal distribution with mean =0, std = 1"
   ]
  },
  {
   "cell_type": "code",
   "execution_count": 12,
   "metadata": {},
   "outputs": [],
   "source": [
    "if __name__ == \"__main__\":\n",
    " X = np.array([[0,0,1],\n",
    " [0,1,1],\n",
    " [1,0,1],\n",
    " [1,1,1]])\n",
    " y = np.array([[0],[1],[1],[0]])\n",
    " nn = NeuralNetwork(3, 4, 1, 1, X, y)\n",
    " nn.train()"
   ]
  },
  {
   "cell_type": "code",
   "execution_count": 14,
   "metadata": {},
   "outputs": [
    {
     "data": {
      "text/plain": [
       "[<matplotlib.lines.Line2D at 0x7fb948c79f10>]"
      ]
     },
     "execution_count": 14,
     "metadata": {},
     "output_type": "execute_result"
    },
    {
     "data": {
      "image/png": "[encoded data removed]",
      "text/plain": [
       "<Figure size 1280x720 with 1 Axes>"
      ]
     },
     "metadata": {
      "needs_background": "light"
     },
     "output_type": "display_data"
    }
   ],
   "source": [
    "figure(figsize=(16, 9), dpi=80)\n",
    "x = np.arange(0, 1500, 1)\n",
    "plt.plot(x, nn.loss)"
   ]
  },
  {
   "cell_type": "code",
   "execution_count": null,
   "metadata": {},
   "outputs": [],
   "source": []
  }
 ],
 "metadata": {
  "kernelspec": {
   "display_name": "Python 3",
   "language": "python",
   "name": "python3"
  },
  "language_info": {
   "codemirror_mode": {
    "name": "ipython",
    "version": 3
   },
   "file_extension": ".py",
   "mimetype": "text/x-python",
   "name": "python",
   "nbconvert_exporter": "python",
   "pygments_lexer": "ipython3",
   "version": "3.9.1 (v3.9.1:1e5d33e9b9, Dec  7 2020, 12:10:52) \n[Clang 6.0 (clang-600.0.57)]"
  },
  "orig_nbformat": 4,
  "vscode": {
   "interpreter": {
    "hash": "aee8b7b246df8f9039afb4144a1f6fd8d2ca17a180786b69acc140d282b71a49"
   }
  }
 },
 "nbformat": 4,
 "nbformat_minor": 2
}
