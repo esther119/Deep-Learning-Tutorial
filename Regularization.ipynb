{
  "cells": [
    {
      "cell_type": "code",
      "execution_count": 1,
      "metadata": {
        "colab": {
          "base_uri": "https://localhost:8080/"
        },
        "id": "VRHdQMTqQQU3",
        "outputId": "434da72f-e79b-44b9-a5be-54ba55da9b80"
      },
      "outputs": [
        {
          "name": "stdout",
          "output_type": "stream",
          "text": [
            "Populating the interactive namespace from numpy and matplotlib\n"
          ]
        }
      ],
      "source": [
        "%pylab inline\n",
        "\n",
        "import numpy as np\n",
        "import pandas as pd\n",
        "from skimage.io import imread_collection\n",
        "from sklearn.metrics import accuracy_score\n",
        "from matplotlib import pyplot as plt\n",
        "\n",
        "import tensorflow as tf\n",
        "import keras\n",
        "\n",
        "# To stop potential randomness\n",
        "seed = 128\n",
        "rng = np.random.RandomState(seed)"
      ]
    },
    {
      "cell_type": "code",
      "execution_count": 2,
      "metadata": {
        "colab": {
          "base_uri": "https://localhost:8080/"
        },
        "id": "vxO7MH9_QZ5w",
        "outputId": "bb0b3414-f853-4d12-d524-f7c82346d449"
      },
      "outputs": [
        {
          "name": "stdout",
          "output_type": "stream",
          "text": [
            "Downloading data from https://storage.googleapis.com/tensorflow/tf-keras-datasets/mnist.npz\n",
            "11490434/11490434 [==============================] - 0s 0us/step\n"
          ]
        }
      ],
      "source": [
        "from keras.datasets import mnist\n",
        "\n",
        "(x_train, y_train), (x_test, y_test) = mnist.load_data()"
      ]
    },
    {
      "cell_type": "code",
      "execution_count": 3,
      "metadata": {
        "colab": {
          "base_uri": "https://localhost:8080/",
          "height": 265
        },
        "id": "gFPr5g0vSLcf",
        "outputId": "ce417d50-4907-45b7-d684-82b4238ff99c"
      },
      "outputs": [
        {
          "data": {
            "image/png": "[encoded data removed]",
            "text/plain": [
              "<Figure size 432x288 with 1 Axes>"
            ]
          },
          "metadata": {
            "needs_background": "light"
          },
          "output_type": "display_data"
        }
      ],
      "source": [
        "# select an image from the dataset\n",
        "selected_image = x_train[0]\n",
        "\n",
        "# view the image\n",
        "plt.imshow(selected_image, cmap='gray')\n",
        "plt.show()"
      ]
    },
    {
      "cell_type": "code",
      "execution_count": 30,
      "metadata": {
        "id": "Qy3BeTZ4VHxM"
      },
      "outputs": [],
      "source": [
        "#reshape the data so it can fit the neural network model\n",
        "x_train = x_train.reshape(-1, 784)\n",
        "x_test = x_test.reshape(-1, 784)\n",
        "\n",
        "from keras.utils import to_categorical\n",
        "y_train = to_categorical(y_train, num_classes=10) #reshape into categorical data 0 or 1 \n",
        "y_test = to_categorical(y_test, num_classes=10)"
      ]
    },
    {
      "cell_type": "markdown",
      "metadata": {
        "id": "fSVsDcROTp4B"
      },
      "source": [
        "## Start with building a simple neural network with 5 hidden layers, each having 500 nodes."
      ]
    },
    {
      "cell_type": "code",
      "execution_count": 10,
      "metadata": {
        "id": "qFKCVfQvTa5Z"
      },
      "outputs": [],
      "source": [
        "# import keras modules\n",
        "from keras.models import Sequential\n",
        "from keras.layers import Dense"
      ]
    },
    {
      "cell_type": "code",
      "execution_count": 13,
      "metadata": {
        "id": "jqAEtsvSTrjG"
      },
      "outputs": [],
      "source": [
        "# define vars\n",
        "input_num_units = 784\n",
        "hidden1_num_units = 500\n",
        "hidden2_num_units = 500\n",
        "hidden3_num_units = 500\n",
        "hidden4_num_units = 500\n",
        "hidden5_num_units = 500\n",
        "output_num_units = 10\n",
        "\n",
        "epochs = 10\n",
        "batch_size = 128\n",
        "\n",
        "model = Sequential([\n",
        " Dense(units=hidden1_num_units, input_dim=input_num_units, activation='relu'),\n",
        " Dense(units=hidden2_num_units, input_dim=hidden1_num_units, activation='relu'),\n",
        " Dense(units=hidden3_num_units, input_dim=hidden2_num_units, activation='relu'),\n",
        " Dense(units=hidden4_num_units, input_dim=hidden3_num_units, activation='relu'),\n",
        " Dense(units=hidden5_num_units, input_dim=hidden4_num_units, activation='relu'),\n",
        " Dense(units=output_num_units, input_dim=hidden5_num_units, activation='softmax'),\n",
        " ])\n"
      ]
    },
    {
      "cell_type": "code",
      "execution_count": 33,
      "metadata": {
        "colab": {
          "base_uri": "https://localhost:8080/"
        },
        "id": "ApGfAlgsTtZq",
        "outputId": "10031eeb-5906-413d-8dc3-2de35b5746ed"
      },
      "outputs": [
        {
          "name": "stdout",
          "output_type": "stream",
          "text": [
            "Epoch 1/10\n",
            "469/469 [==============================] - 16s 33ms/step - loss: 0.9193 - accuracy: 0.9033 - val_loss: 0.1467 - val_accuracy: 0.9559\n",
            "Epoch 2/10\n",
            "469/469 [==============================] - 15s 33ms/step - loss: 0.1231 - accuracy: 0.9631 - val_loss: 0.1229 - val_accuracy: 0.9645\n",
            "Epoch 3/10\n",
            "469/469 [==============================] - 16s 35ms/step - loss: 0.0999 - accuracy: 0.9699 - val_loss: 0.1364 - val_accuracy: 0.9617\n",
            "Epoch 4/10\n",
            "469/469 [==============================] - 16s 33ms/step - loss: 0.0806 - accuracy: 0.9755 - val_loss: 0.1534 - val_accuracy: 0.9602\n",
            "Epoch 5/10\n",
            "469/469 [==============================] - 16s 33ms/step - loss: 0.0758 - accuracy: 0.9773 - val_loss: 0.1456 - val_accuracy: 0.9601\n",
            "Epoch 6/10\n",
            "469/469 [==============================] - 15s 33ms/step - loss: 0.0710 - accuracy: 0.9787 - val_loss: 0.1093 - val_accuracy: 0.9739\n",
            "Epoch 7/10\n",
            "469/469 [==============================] - 15s 33ms/step - loss: 0.0597 - accuracy: 0.9821 - val_loss: 0.1336 - val_accuracy: 0.9672\n",
            "Epoch 8/10\n",
            "469/469 [==============================] - 16s 33ms/step - loss: 0.0582 - accuracy: 0.9837 - val_loss: 0.1032 - val_accuracy: 0.9738\n",
            "Epoch 9/10\n",
            "469/469 [==============================] - 16s 33ms/step - loss: 0.0499 - accuracy: 0.9855 - val_loss: 0.1064 - val_accuracy: 0.9744\n",
            "Epoch 10/10\n",
            "469/469 [==============================] - 15s 33ms/step - loss: 0.0577 - accuracy: 0.9839 - val_loss: 0.1313 - val_accuracy: 0.9708\n"
          ]
        }
      ],
      "source": [
        "model.compile(loss='categorical_crossentropy', optimizer='adam', metrics=['accuracy'])\n",
        "\n",
        "trained_model_5d = model.fit(x_train, y_train, epochs=epochs, batch_size=batch_size, validation_data=(x_test, y_test))"
      ]
    },
    {
      "cell_type": "markdown",
      "metadata": {
        "id": "m1GJsek9UW-g"
      },
      "source": [
        "## L2 regularizer"
      ]
    },
    {
      "cell_type": "code",
      "execution_count": 36,
      "metadata": {
        "id": "Lm9xU0JvXX-N"
      },
      "outputs": [],
      "source": [
        "from keras import regularizers\n",
        "\n",
        "model = Sequential([\n",
        " Dense(units=hidden1_num_units, input_dim=input_num_units, activation='relu',\n",
        " kernel_regularizer=regularizers.l2(0.0001)),\n",
        " Dense(units=hidden2_num_units, input_dim=hidden1_num_units, activation='relu',\n",
        " kernel_regularizer=regularizers.l2(0.0001)),\n",
        " Dense(units=hidden3_num_units, input_dim=hidden2_num_units, activation='relu',\n",
        " kernel_regularizer=regularizers.l2(0.0001)),\n",
        " Dense(units=hidden4_num_units, input_dim=hidden3_num_units, activation='relu',\n",
        " kernel_regularizer=regularizers.l2(0.0001)),\n",
        " Dense(units=hidden5_num_units, input_dim=hidden4_num_units, activation='relu',\n",
        " kernel_regularizer=regularizers.l2(0.0001)),\n",
        "\n",
        "Dense(units=output_num_units, input_dim=hidden5_num_units, activation='softmax'),\n",
        " ])"
      ]
    },
    {
      "cell_type": "code",
      "execution_count": 39,
      "metadata": {
        "colab": {
          "base_uri": "https://localhost:8080/"
        },
        "id": "wm0vi3m5XX20",
        "outputId": "93606ba3-b204-410b-e1d6-dd6a10cc8bbf"
      },
      "outputs": [
        {
          "name": "stdout",
          "output_type": "stream",
          "text": [
            "Epoch 1/10\n",
            "469/469 [==============================] - 19s 38ms/step - loss: 1.0656 - accuracy: 0.9050 - val_loss: 0.4013 - val_accuracy: 0.9490\n",
            "Epoch 2/10\n",
            "469/469 [==============================] - 17s 37ms/step - loss: 0.3412 - accuracy: 0.9632 - val_loss: 0.3551 - val_accuracy: 0.9599\n",
            "Epoch 3/10\n",
            "469/469 [==============================] - 18s 37ms/step - loss: 0.3018 - accuracy: 0.9730 - val_loss: 0.3441 - val_accuracy: 0.9624\n",
            "Epoch 4/10\n",
            "469/469 [==============================] - 17s 37ms/step - loss: 0.2808 - accuracy: 0.9756 - val_loss: 0.3854 - val_accuracy: 0.9483\n",
            "Epoch 5/10\n",
            "469/469 [==============================] - 18s 39ms/step - loss: 0.2666 - accuracy: 0.9775 - val_loss: 0.3029 - val_accuracy: 0.9690\n",
            "Epoch 6/10\n",
            "469/469 [==============================] - 18s 39ms/step - loss: 0.2478 - accuracy: 0.9812 - val_loss: 0.2731 - val_accuracy: 0.9736\n",
            "Epoch 7/10\n",
            "469/469 [==============================] - 18s 38ms/step - loss: 0.2337 - accuracy: 0.9825 - val_loss: 0.2901 - val_accuracy: 0.9698\n",
            "Epoch 8/10\n",
            "469/469 [==============================] - 24s 52ms/step - loss: 0.2201 - accuracy: 0.9836 - val_loss: 0.2790 - val_accuracy: 0.9703\n",
            "Epoch 9/10\n",
            "469/469 [==============================] - 23s 50ms/step - loss: 0.2058 - accuracy: 0.9851 - val_loss: 0.2815 - val_accuracy: 0.9722\n",
            "Epoch 10/10\n",
            "469/469 [==============================] - 17s 37ms/step - loss: 0.1955 - accuracy: 0.9859 - val_loss: 0.2549 - val_accuracy: 0.9723\n"
          ]
        }
      ],
      "source": [
        "model.compile(loss='categorical_crossentropy', optimizer='adam', metrics=['accuracy'])\n",
        "\n",
        "trained_model_5d = model.fit(x_train, y_train, epochs=epochs, batch_size=batch_size, validation_data=(x_test, y_test))\n"
      ]
    },
    {
      "cell_type": "markdown",
      "metadata": {
        "id": "2LtbMDTWYE4R"
      },
      "source": [
        "Regularization parameter :```l2(0.0001)```\n",
        "- A smaller value for the regularization parameter means that the regularization term has less influence on the loss function, and therefore the model will have more freedom to adjust the weights\n",
        "\n",
        "Result: Some improvement on the validation "
      ]
    },
    {
      "cell_type": "markdown",
      "metadata": {
        "id": "R7V5pRIaY00R"
      },
      "source": [
        "## L1 regularizer"
      ]
    },
    {
      "cell_type": "code",
      "execution_count": 40,
      "metadata": {
        "id": "S8e6r5oDUWPo"
      },
      "outputs": [],
      "source": [
        "model = Sequential([\n",
        " Dense(units=hidden1_num_units, input_dim=input_num_units, activation='relu',\n",
        " kernel_regularizer=regularizers.l1(0.0001)),\n",
        " Dense(units=hidden2_num_units, input_dim=hidden1_num_units, activation='relu',\n",
        " kernel_regularizer=regularizers.l1(0.0001)),\n",
        " Dense(units=hidden3_num_units, input_dim=hidden2_num_units, activation='relu',\n",
        " kernel_regularizer=regularizers.l1(0.0001)),\n",
        " Dense(units=hidden4_num_units, input_dim=hidden3_num_units, activation='relu',\n",
        " kernel_regularizer=regularizers.l1(0.0001)),\n",
        " Dense(units=hidden5_num_units, input_dim=hidden4_num_units, activation='relu',\n",
        " kernel_regularizer=regularizers.l1(0.0001)),\n",
        " Dense(units=output_num_units, input_dim=hidden5_num_units, activation='softmax'),\n",
        " ])\n"
      ]
    },
    {
      "cell_type": "code",
      "execution_count": 42,
      "metadata": {
        "colab": {
          "base_uri": "https://localhost:8080/"
        },
        "id": "Z5PQ-lkEUTBi",
        "outputId": "0456abf8-b7fa-44e9-c526-a02aa41b05f4"
      },
      "outputs": [
        {
          "name": "stdout",
          "output_type": "stream",
          "text": [
            "Epoch 1/10\n",
            "469/469 [==============================] - 20s 40ms/step - loss: 5.0762 - accuracy: 0.9044 - val_loss: 3.9490 - val_accuracy: 0.9482\n",
            "Epoch 2/10\n",
            "469/469 [==============================] - 21s 45ms/step - loss: 3.4755 - accuracy: 0.9642 - val_loss: 3.0819 - val_accuracy: 0.9624\n",
            "Epoch 3/10\n",
            "469/469 [==============================] - 20s 42ms/step - loss: 2.7210 - accuracy: 0.9722 - val_loss: 2.4602 - val_accuracy: 0.9584\n",
            "Epoch 4/10\n",
            "469/469 [==============================] - 20s 42ms/step - loss: 2.1461 - accuracy: 0.9736 - val_loss: 1.9199 - val_accuracy: 0.9708\n",
            "Epoch 5/10\n",
            "469/469 [==============================] - 26s 56ms/step - loss: 1.6827 - accuracy: 0.9757 - val_loss: 1.5237 - val_accuracy: 0.9664\n",
            "Epoch 6/10\n",
            "469/469 [==============================] - 18s 38ms/step - loss: 1.3215 - accuracy: 0.9754 - val_loss: 1.2229 - val_accuracy: 0.9641\n",
            "Epoch 7/10\n",
            "469/469 [==============================] - 18s 38ms/step - loss: 1.0351 - accuracy: 0.9768 - val_loss: 0.9359 - val_accuracy: 0.9720\n",
            "Epoch 8/10\n",
            "469/469 [==============================] - 18s 39ms/step - loss: 0.8166 - accuracy: 0.9765 - val_loss: 0.7490 - val_accuracy: 0.9692\n",
            "Epoch 9/10\n",
            "469/469 [==============================] - 23s 48ms/step - loss: 0.6454 - accuracy: 0.9763 - val_loss: 0.6001 - val_accuracy: 0.9711\n",
            "Epoch 10/10\n",
            "469/469 [==============================] - 20s 42ms/step - loss: 0.5138 - accuracy: 0.9776 - val_loss: 0.4865 - val_accuracy: 0.9708\n"
          ]
        }
      ],
      "source": [
        "model.compile(loss='categorical_crossentropy', optimizer='adam', metrics=['accuracy'])\n",
        "trained_model_5d = model.fit(x_train, y_train, epochs=epochs, batch_size=batch_size, validation_data=(x_test, y_test))"
      ]
    },
    {
      "cell_type": "markdown",
      "metadata": {
        "id": "r3ChSoZhZUBT"
      },
      "source": [
        "Result: No improvement on the validation"
      ]
    },
    {
      "cell_type": "markdown",
      "metadata": {
        "id": "QyQfhGuPZYgk"
      },
      "source": [
        "## Dropout"
      ]
    },
    {
      "cell_type": "code",
      "execution_count": 43,
      "metadata": {
        "id": "ccebgfP_ZEtB"
      },
      "outputs": [],
      "source": [
        "## dropout\n",
        "\n",
        "from keras.layers.core import Dropout\n",
        "model = Sequential([\n",
        " Dense(units=hidden1_num_units, input_dim=input_num_units, activation='relu'),\n",
        " Dropout(0.25),\n",
        " Dense(units=hidden2_num_units, input_dim=hidden1_num_units, activation='relu'),\n",
        " Dropout(0.25),\n",
        " Dense(units=hidden3_num_units, input_dim=hidden2_num_units, activation='relu'),\n",
        " Dropout(0.25),\n",
        " Dense(units=hidden4_num_units, input_dim=hidden3_num_units, activation='relu'),\n",
        " Dropout(0.25),\n",
        " Dense(units=hidden5_num_units, input_dim=hidden4_num_units, activation='relu'),\n",
        " Dropout(0.25),\n",
        "\n",
        "Dense(units=output_num_units, input_dim=hidden5_num_units, activation='softmax'),\n",
        " ])"
      ]
    },
    {
      "cell_type": "markdown",
      "metadata": {
        "id": "RSBBluXRZ2m9"
      },
      "source": [
        "The value 0.25 is the dropout rate, it is the percentage of the input units that will be randomly set to 0. So, in this case, with a dropout rate of 0.25, 25% of the input units to the layer will be set to 0 during each training iteration."
      ]
    },
    {
      "cell_type": "code",
      "execution_count": 44,
      "metadata": {
        "colab": {
          "base_uri": "https://localhost:8080/"
        },
        "id": "nF4ViPTRZwv6",
        "outputId": "9500d63a-87e4-492d-ae81-e93583a74462"
      },
      "outputs": [
        {
          "name": "stdout",
          "output_type": "stream",
          "text": [
            "Epoch 1/10\n",
            "469/469 [==============================] - 19s 39ms/step - loss: 1.5708 - accuracy: 0.7531 - val_loss: 0.2275 - val_accuracy: 0.9376\n",
            "Epoch 2/10\n",
            "469/469 [==============================] - 18s 39ms/step - loss: 0.3240 - accuracy: 0.9099 - val_loss: 0.1563 - val_accuracy: 0.9556\n",
            "Epoch 3/10\n",
            "469/469 [==============================] - 18s 39ms/step - loss: 0.2386 - accuracy: 0.9349 - val_loss: 0.1372 - val_accuracy: 0.9617\n",
            "Epoch 4/10\n",
            "469/469 [==============================] - 21s 45ms/step - loss: 0.1961 - accuracy: 0.9464 - val_loss: 0.1249 - val_accuracy: 0.9671\n",
            "Epoch 5/10\n",
            "469/469 [==============================] - 18s 38ms/step - loss: 0.1701 - accuracy: 0.9543 - val_loss: 0.1259 - val_accuracy: 0.9664\n",
            "Epoch 6/10\n",
            "469/469 [==============================] - 17s 37ms/step - loss: 0.1510 - accuracy: 0.9595 - val_loss: 0.1175 - val_accuracy: 0.9684\n",
            "Epoch 7/10\n",
            "469/469 [==============================] - 17s 37ms/step - loss: 0.1488 - accuracy: 0.9615 - val_loss: 0.1131 - val_accuracy: 0.9704\n",
            "Epoch 8/10\n",
            "469/469 [==============================] - 18s 38ms/step - loss: 0.1408 - accuracy: 0.9637 - val_loss: 0.1202 - val_accuracy: 0.9718\n",
            "Epoch 9/10\n",
            "469/469 [==============================] - 18s 38ms/step - loss: 0.1349 - accuracy: 0.9656 - val_loss: 0.1201 - val_accuracy: 0.9701\n",
            "Epoch 10/10\n",
            "469/469 [==============================] - 17s 37ms/step - loss: 0.1324 - accuracy: 0.9668 - val_loss: 0.1026 - val_accuracy: 0.9741\n"
          ]
        }
      ],
      "source": [
        "model.compile(loss='categorical_crossentropy', optimizer='adam', metrics=['accuracy'])\n",
        "trained_model_5d = model.fit(x_train, y_train, epochs =epochs, batch_size=batch_size, validation_data=(x_test, y_test))"
      ]
    },
    {
      "cell_type": "markdown",
      "metadata": {
        "id": "ojqEPShyaCsq"
      },
      "source": [
        "## data augmentation"
      ]
    },
    {
      "cell_type": "code",
      "execution_count": 37,
      "metadata": {
        "id": "xrUJ-GujZ-Rs"
      },
      "outputs": [],
      "source": [
        "from keras.preprocessing.image import ImageDataGenerator\n",
        "# datagen = ImageDataGenerator(zca_epsilon= 1e-7, zca_whitening = True)\n",
        "datagen = ImageDataGenerator(\n",
        "    rotation_range=40,\n",
        "    width_shift_range=0.2,\n",
        "    height_shift_range=0.2,\n",
        "    shear_range=0.2,\n",
        "    zoom_range=0.2,\n",
        "    horizontal_flip=True,\n",
        "    fill_mode='nearest')"
      ]
    },
    {
      "cell_type": "code",
      "execution_count": 38,
      "metadata": {
        "id": "220DjPkqaP8T"
      },
      "outputs": [],
      "source": [
        "from keras.datasets import mnist\n",
        "\n",
        "(X_train, Y_train), (X_test, Y_test) = mnist.load_data()"
      ]
    },
    {
      "cell_type": "code",
      "execution_count": 39,
      "metadata": {
        "id": "fbIJ1uqgaswv"
      },
      "outputs": [],
      "source": [
        "#reshape the data\n",
        "X_train = X_train.reshape(X_train.shape[0], 28, 28, 1)\n",
        "X_test = X_test.reshape(X_test.shape[0], 28, 28, 1)\n",
        "\n",
        "# fit parameters from data\n",
        "datagen.fit(X_train)"
      ]
    },
    {
      "cell_type": "code",
      "execution_count": 43,
      "metadata": {
        "colab": {
          "base_uri": "https://localhost:8080/",
          "height": 265
        },
        "id": "czFuXaYlcBBK",
        "outputId": "866b4445-4310-4660-9980-0648180eb45b"
      },
      "outputs": [
        {
          "data": {
            "image/png": "[encoded data removed]",
            "text/plain": [
              "<Figure size 432x288 with 1 Axes>"
            ]
          },
          "metadata": {
            "needs_background": "light"
          },
          "output_type": "display_data"
        }
      ],
      "source": [
        "# Generate augmented images\n",
        "for x_batch, y_batch in datagen.flow(X_train, Y_train, batch_size=3):\n",
        "    # Show the images\n",
        "    plt.imshow(x_batch[0].squeeze(), cmap='gray')\n",
        "    plt.show()\n",
        "    # stop the loop after one image is shown\n",
        "    break"
      ]
    },
    {
      "cell_type": "markdown",
      "metadata": {
        "id": "3oLB6SyndDVC"
      },
      "source": [
        " `.squeeze()` method is used to remove the singleton dimensions of the image."
      ]
    },
    {
      "cell_type": "code",
      "execution_count": 44,
      "metadata": {
        "colab": {
          "base_uri": "https://localhost:8080/",
          "height": 246
        },
        "id": "GfyEUJpkc1jL",
        "outputId": "baad46b5-a246-4d31-c0d3-79b42f6c520f"
      },
      "outputs": [
        {
          "data": {
            "image/png": "[encoded data removed]",
            "text/plain": [
              "<Figure size 720x288 with 10 Axes>"
            ]
          },
          "metadata": {
            "needs_background": "light"
          },
          "output_type": "display_data"
        }
      ],
      "source": [
        "import matplotlib.pyplot as plt\n",
        "\n",
        "# Generate augmented images\n",
        "fig, axes = plt.subplots(nrows=2, ncols=5, figsize=(10, 4))\n",
        "axes = axes.ravel()\n",
        "for i, (x_batch, y_batch) in enumerate(datagen.flow(X_train, Y_train, batch_size=1)):\n",
        "    if i > 9:\n",
        "        break\n",
        "    axes[i].imshow(x_batch[0].squeeze(), cmap='gray')\n",
        "    axes[i].axis('off')\n",
        "plt.show()\n"
      ]
    },
    {
      "cell_type": "code",
      "execution_count": 45,
      "metadata": {
        "id": "jnkcWx4DdcKB"
      },
      "outputs": [],
      "source": [
        "#reshape the data so it can fit the neural network model\n",
        "X_train = X_train.reshape(-1, 784)\n",
        "X_test = X_test.reshape(-1, 784)\n",
        "\n",
        "from keras.utils import to_categorical\n",
        "Y_train = to_categorical(Y_train, num_classes=10) #reshape into categorical data 0 or 1 \n",
        "Y_test = to_categorical(Y_test, num_classes=10)"
      ]
    },
    {
      "cell_type": "code",
      "execution_count": 46,
      "metadata": {
        "id": "s1hIZ31xYtCQ"
      },
      "outputs": [],
      "source": [
        "## structure using dropout\n",
        "from keras.layers.core import Dropout\n",
        "model = Sequential([\n",
        " Dense(units=hidden1_num_units, input_dim=input_num_units, activation='relu'),\n",
        " Dropout(0.25),\n",
        " Dense(units=hidden2_num_units, input_dim=hidden1_num_units, activation='relu'),\n",
        " Dropout(0.25),\n",
        " Dense(units=hidden3_num_units, input_dim=hidden2_num_units, activation='relu'),\n",
        " Dropout(0.25),\n",
        " Dense(units=hidden4_num_units, input_dim=hidden3_num_units, activation='relu'),\n",
        " Dropout(0.25),\n",
        " Dense(units=hidden5_num_units, input_dim=hidden4_num_units, activation='relu'),\n",
        " Dropout(0.25),\n",
        "Dense(units=output_num_units, input_dim=hidden5_num_units, activation='softmax'),\n",
        " ])\n"
      ]
    },
    {
      "cell_type": "code",
      "execution_count": 47,
      "metadata": {
        "colab": {
          "base_uri": "https://localhost:8080/"
        },
        "id": "yWOlTx0yY_xq",
        "outputId": "b6166e09-9366-4ef4-e9f3-7ee30db9abe2"
      },
      "outputs": [
        {
          "name": "stdout",
          "output_type": "stream",
          "text": [
            "Epoch 1/10\n",
            "469/469 [==============================] - 12s 24ms/step - loss: 1.4746 - accuracy: 0.7619 - val_loss: 0.2297 - val_accuracy: 0.9347\n",
            "Epoch 2/10\n",
            "469/469 [==============================] - 11s 24ms/step - loss: 0.3137 - accuracy: 0.9112 - val_loss: 0.1721 - val_accuracy: 0.9540\n",
            "Epoch 3/10\n",
            "469/469 [==============================] - 13s 28ms/step - loss: 0.2295 - accuracy: 0.9355 - val_loss: 0.1419 - val_accuracy: 0.9609\n",
            "Epoch 4/10\n",
            "469/469 [==============================] - 11s 24ms/step - loss: 0.1900 - accuracy: 0.9481 - val_loss: 0.1136 - val_accuracy: 0.9690\n",
            "Epoch 5/10\n",
            "469/469 [==============================] - 13s 27ms/step - loss: 0.1711 - accuracy: 0.9543 - val_loss: 0.1139 - val_accuracy: 0.9671\n",
            "Epoch 6/10\n",
            "469/469 [==============================] - 11s 24ms/step - loss: 0.1566 - accuracy: 0.9573 - val_loss: 0.1023 - val_accuracy: 0.9722\n",
            "Epoch 7/10\n",
            "469/469 [==============================] - 11s 24ms/step - loss: 0.1433 - accuracy: 0.9625 - val_loss: 0.1234 - val_accuracy: 0.9692\n",
            "Epoch 8/10\n",
            "469/469 [==============================] - 11s 24ms/step - loss: 0.1351 - accuracy: 0.9646 - val_loss: 0.1143 - val_accuracy: 0.9723\n",
            "Epoch 9/10\n",
            "469/469 [==============================] - 11s 24ms/step - loss: 0.1357 - accuracy: 0.9650 - val_loss: 0.1147 - val_accuracy: 0.9705\n",
            "Epoch 10/10\n",
            "469/469 [==============================] - 11s 24ms/step - loss: 0.1297 - accuracy: 0.9672 - val_loss: 0.1199 - val_accuracy: 0.9703\n"
          ]
        }
      ],
      "source": [
        "model.compile(loss='categorical_crossentropy', optimizer='adam', metrics=['accuracy'])\n",
        "trained_model_5d = model.fit(X_train, Y_train, epochs=epochs, batch_size=batch_size, validation_data=(X_test, Y_test))"
      ]
    },
    {
      "cell_type": "markdown",
      "metadata": {
        "id": "8oX9EMauZu44"
      },
      "source": [
        "## Early dropping "
      ]
    },
    {
      "cell_type": "code",
      "execution_count": 20,
      "metadata": {
        "colab": {
          "base_uri": "https://localhost:8080/"
        },
        "id": "t237CXNfZKwK",
        "outputId": "f9c59b3d-afed-497f-eff2-9d5901740ea1"
      },
      "outputs": [
        {
          "name": "stdout",
          "output_type": "stream",
          "text": [
            "Epoch 1/10\n",
            "469/469 [==============================] - 12s 24ms/step - loss: 0.1681 - accuracy: 0.9674 - val_loss: 0.1294 - val_accuracy: 0.9765\n",
            "Epoch 2/10\n",
            "469/469 [==============================] - 11s 24ms/step - loss: 0.1548 - accuracy: 0.9673 - val_loss: 0.1139 - val_accuracy: 0.9758\n",
            "Epoch 3/10\n",
            "469/469 [==============================] - 11s 24ms/step - loss: 0.1468 - accuracy: 0.9681 - val_loss: 0.1554 - val_accuracy: 0.9771\n",
            "Epoch 4/10\n",
            "469/469 [==============================] - 11s 24ms/step - loss: 0.1323 - accuracy: 0.9717 - val_loss: 0.1471 - val_accuracy: 0.9757\n",
            "Epoch 5/10\n",
            "469/469 [==============================] - 11s 24ms/step - loss: 0.1161 - accuracy: 0.9743 - val_loss: 0.1348 - val_accuracy: 0.9749\n"
          ]
        }
      ],
      "source": [
        "from keras.callbacks import EarlyStopping\n",
        "model.compile(loss='categorical_crossentropy', optimizer='adam', metrics=['accuracy'])\n",
        "trained_model_5d = model.fit(X_train, Y_train, epochs =epochs, batch_size=batch_size, validation_data=(X_test, Y_test)\n",
        " , callbacks = [EarlyStopping(monitor='val_accuracy', patience=2)])"
      ]
    },
    {
      "cell_type": "markdown",
      "metadata": {
        "id": "dJleEppcaSvU"
      },
      "source": [
        "The monitor argument specifies which metric to use to determine when to stop the training. The val_acc value means that the callback will use the validation accuracy to determine if the training should stop. So, if the accuracy on the validation set stops improving for more than 2 consecutive epochs, the training will be stopped.\n",
        "\n",
        "The patience argument specifies the number of epochs to wait before stopping the training when the monitored metric stops improving. In this case, patience=2 means that if the validation accuracy does not improve for two consecutive epochs, the training will be stopped.\n"
      ]
    }
  ],
  "metadata": {
    "colab": {
      "provenance": []
    },
    "kernelspec": {
      "display_name": "base",
      "language": "python",
      "name": "python3"
    },
    "language_info": {
      "name": "python",
      "version": "3.9.13 (main, Oct 13 2022, 16:12:30) \n[Clang 12.0.0 ]"
    },
    "vscode": {
      "interpreter": {
        "hash": "c9b5a0d0397a965b8a61bea250a52cf791a7dd32e6dbdab8d82b426f9cd3b168"
      }
    }
  },
  "nbformat": 4,
  "nbformat_minor": 0
}
