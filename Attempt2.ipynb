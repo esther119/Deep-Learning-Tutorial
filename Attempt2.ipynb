{
 "cells": [
  {
   "cell_type": "code",
   "execution_count": 107,
   "id": "fa4bb37a",
   "metadata": {},
   "outputs": [],
   "source": [
    "import numpy as np\n",
    "import matplotlib.pyplot as plt\n",
    "\n",
    "\n",
    "def load_data(path):\n",
    "    def one_hot(y):\n",
    "        table = np.zeros((y.shape[0], 10))\n",
    "        for i in range(y.shape[0]):\n",
    "            table[i][int(y[i][0])] = 1 \n",
    "        return table\n",
    "\n",
    "    def normalize(x): \n",
    "        x = x / 255\n",
    "        return x \n",
    "\n",
    "    data = np.loadtxt('{}'.format(path), delimiter = ',', skiprows=1)\n",
    "    return normalize(data[:,1:]),one_hot(data[:,:1])\n",
    "\n",
    "X_train, y_train = load_data('mnist_train.csv')\n",
    "X_test, y_test = load_data('mnist_test.csv')"
   ]
  },
  {
   "cell_type": "code",
   "execution_count": 108,
   "id": "081264b0",
   "metadata": {},
   "outputs": [
    {
     "data": {
      "text/plain": [
       "784"
      ]
     },
     "execution_count": 108,
     "metadata": {},
     "output_type": "execute_result"
    }
   ],
   "source": [
    "X_train.shape[1]"
   ]
  },
  {
   "cell_type": "code",
   "execution_count": 109,
   "id": "323c6770",
   "metadata": {},
   "outputs": [
    {
     "name": "stderr",
     "output_type": "stream",
     "text": [
      "100%|██████████| 10/10 [00:40<00:00,  4.04s/it]\n"
     ]
    },
    {
     "name": "stdout",
     "output_type": "stream",
     "text": [
      "Accuracy: 90.34 %\n"
     ]
    },
    {
     "data": {
      "image/png": "[encoded data removed]",
      "text/plain": [
       "<Figure size 800x600 with 1 Axes>"
      ]
     },
     "metadata": {},
     "output_type": "display_data"
    }
   ],
   "source": [
    "class NeuralNetwork:\n",
    "    def __init__(self, X, y, batch = 64, lr = 1e-3,  epochs = 10):\n",
    "        self.input = X \n",
    "        self.target = y\n",
    "        self.batch = batch\n",
    "        self.epochs = epochs\n",
    "        self.lr = lr\n",
    "        self.momentum = 0.7\n",
    "\n",
    "        self.x = self.input[:self.batch] # batch input \n",
    "        self.y = self.target[:self.batch] # batch target value\n",
    "        self.loss = []\n",
    "        self.acc = []\n",
    "        \n",
    "        self.init_weights()\n",
    "        self.init_momentum()\n",
    "      \n",
    "    def init_weights(self):\n",
    "        self.W1 = np.random.randn(self.input.shape[1],256)\n",
    "        self.W2 = np.random.randn(self.W1.shape[1],128)\n",
    "        self.W3 = np.random.randn(self.W2.shape[1],self.y.shape[1])\n",
    "\n",
    "        self.b1 = np.random.randn(self.W1.shape[1],)\n",
    "        self.b2 = np.random.randn(self.W2.shape[1],)\n",
    "        self.b3 = np.random.randn(self.W3.shape[1],)\n",
    "\n",
    "    def init_momentum(self):\n",
    "        self.changeW3 = 0\n",
    "        self.changeW2 = 0\n",
    "        self.changeW1 = 0\n",
    "        self.changeb3 = 0\n",
    "        self.changeb2 = 0\n",
    "        self.changeb1 = 0\n",
    "\n",
    "    def ReLU(self, x):\n",
    "        return np.maximum(0,x)\n",
    "\n",
    "    def dReLU(self,x):\n",
    "        return 1 * (x > 0) \n",
    "    \n",
    "    def softmax(self, z):\n",
    "        z = z - np.max(z, axis = 1).reshape(z.shape[0],1)\n",
    "        return np.exp(z) / np.sum(np.exp(z), axis = 1).reshape(z.shape[0],1)\n",
    "    \n",
    "    def shuffle(self):\n",
    "        idx = [i for i in range(self.input.shape[0])]\n",
    "        np.random.shuffle(idx)\n",
    "        self.input = self.input[idx]\n",
    "        self.target = self.target[idx]\n",
    "        \n",
    "    def feedforward(self):\n",
    "        assert self.x.shape[1] == self.W1.shape[0]\n",
    "        self.z1 = self.x.dot(self.W1) + self.b1\n",
    "        self.a1 = self.ReLU(self.z1)\n",
    "\n",
    "        assert self.a1.shape[1] == self.W2.shape[0]\n",
    "        self.z2 = self.a1.dot(self.W2) + self.b2\n",
    "        self.a2 = self.ReLU(self.z2)\n",
    "\n",
    "        assert self.a2.shape[1] == self.W3.shape[0]\n",
    "        self.z3 = self.a2.dot(self.W3) + self.b3\n",
    "        self.a3 = self.softmax(self.z3)\n",
    "        self.error = self.a3 - self.y\n",
    "        # self.error = self.y * np.log(self.a3)\n",
    "\n",
    "        \n",
    "    def backprop(self):\n",
    "        dcost = (1/self.batch)*self.error\n",
    "        \n",
    "        DW3 = np.dot(dcost.T,self.a2).T\n",
    "        DW2 = np.dot((np.dot((dcost),self.W3.T) * self.dReLU(self.z2)).T,self.a1).T\n",
    "        DW1 = np.dot((np.dot(np.dot((dcost),self.W3.T)*self.dReLU(self.z2),self.W2.T)*self.dReLU(self.z1)).T,self.x).T\n",
    "\n",
    "        db3 = np.sum(dcost,axis = 0)\n",
    "        db2 = np.sum(np.dot((dcost),self.W3.T) * self.dReLU(self.z2),axis = 0)\n",
    "        db1 = np.sum((np.dot(np.dot((dcost),self.W3.T)*self.dReLU(self.z2),self.W2.T)*self.dReLU(self.z1)),axis = 0)\n",
    "        \n",
    "        assert DW3.shape == self.W3.shape\n",
    "        assert DW2.shape == self.W2.shape\n",
    "        assert DW1.shape == self.W1.shape\n",
    "        \n",
    "        assert db3.shape == self.b3.shape\n",
    "        assert db2.shape == self.b2.shape\n",
    "        assert db1.shape == self.b1.shape \n",
    "        \n",
    "\n",
    "        self.update_weight_with_momentum(DW3, DW2, DW1, db3, db2, db1)\n",
    "        # self.W3 = self.W3 - self.lr * DW3\n",
    "        # self.W2 = self.W2 - self.lr * DW2\n",
    "        # self.W1 = self.W1 - self.lr * DW1\n",
    "        \n",
    "        # self.b3 = self.b3 - self.lr * db3\n",
    "        # self.b2 = self.b2 - self.lr * db2\n",
    "        # self.b1 = self.b1 - self.lr * db1\n",
    "    \n",
    "    def update_weight_with_momentum(self, DW3, DW2, DW1, db3, db2, db1): \n",
    "        new_changeW3 = self.lr * DW3 + self.momentum * self.changeW3\n",
    "        self.W3 = self.W3 - new_changeW3\n",
    "        self.changeW3 = new_changeW3\n",
    "\n",
    "        new_changeW2 = self.lr * DW2 + self.momentum * self.changeW2\n",
    "        self.W2 = self.W2 - new_changeW2\n",
    "        self.changeW2 = new_changeW2\n",
    "\n",
    "        new_changeW1 = self.lr * DW1 + self.momentum * self.changeW1\n",
    "        self.W1 = self.W1 - new_changeW1\n",
    "        self.changeW1 = new_changeW1\n",
    "\n",
    "        new_changeb3 = self.lr * db3 + self.momentum * self.changeb3\n",
    "        self.b3 = self.b3 - new_changeb3\n",
    "        self.changeb3 = new_changeb3\n",
    "\n",
    "        new_changeb2 = self.lr * db2 + self.momentum * self.changeb2\n",
    "        self.b2 = self.b2 - new_changeb2\n",
    "        self.changeb2 = new_changeb2\n",
    "\n",
    "        new_changeb1 = self.lr * db1 + self.momentum * self.changeb1\n",
    "        self.b1 = self.b1 - new_changeb1\n",
    "        self.changeb1 = new_changeb1\n",
    "\n",
    "        # print(\"changeb1\", self.changeb1[:2])\n",
    "\n",
    "\n",
    "    def train(self):\n",
    "        for epoch in tqdm(range(self.epochs)):\n",
    "            l = 0\n",
    "            acc = 0\n",
    "            self.shuffle()\n",
    "            \n",
    "            for batch in range(self.input.shape[0]//self.batch-1):\n",
    "                start = batch*self.batch\n",
    "                end = (batch+1)*self.batch\n",
    "                self.x = self.input[start:end]\n",
    "                self.y = self.target[start:end]\n",
    "                self.feedforward()\n",
    "                self.backprop()\n",
    "                l+= self.cross_entropy_loss()\n",
    "                acc+= np.count_nonzero(np.argmax(self.a3,axis=1) == np.argmax(self.y,axis=1)) / self.batch\n",
    "                \n",
    "            self.loss.append(l/(self.input.shape[0]//self.batch))\n",
    "            self.acc.append(acc*100/(self.input.shape[0]//self.batch))\n",
    "    \n",
    "    def cross_entropy_loss(self):  \n",
    "        \n",
    "        epsilon = 1e-15 # to avoid division by zero\n",
    "        self.a3 = np.clip(self.a3, epsilon, 1 - epsilon)\n",
    "        loss = -np.mean(np.sum(self.y * np.log(self.a3), axis=-1))\n",
    "        return loss       \n",
    "\n",
    "    def plot(self):\n",
    "        plt.figure(dpi = 125)\n",
    "        plt.plot(self.loss)\n",
    "        plt.xlabel(\"Epochs\")\n",
    "        plt.ylabel(\"Loss\")\n",
    "    \n",
    "    def acc_plot(self):\n",
    "        plt.figure(dpi = 125)\n",
    "        plt.plot(self.acc)\n",
    "        plt.xlabel(\"Epochs\")\n",
    "        plt.ylabel(\"Accuracy\")\n",
    "        \n",
    "    def test(self,xtest,ytest):\n",
    "        self.x = xtest\n",
    "        self.y = ytest\n",
    "        self.feedforward()\n",
    "        acc = np.count_nonzero(np.argmax(self.a3,axis=1) == np.argmax(self.y,axis=1)) / self.x.shape[0]\n",
    "        print(\"Accuracy:\", 100 * acc, \"%\")\n",
    "    \n",
    "        \n",
    "        \n",
    "NN = NeuralNetwork(X_train, y_train) \n",
    "NN.train()\n",
    "NN.plot()\n",
    "NN.test(X_test,y_test)\n"
   ]
  },
  {
   "attachments": {},
   "cell_type": "markdown",
   "id": "7b8cee1d",
   "metadata": {},
   "source": [
    "Observation 4: -inf issue in categorical cross entropy loss: in the beggining, we have lots of 0 in the matrix. Since the log(0) isn't defined, we cannot calculate cross entropy loss. We resolve the problem through setting the min and max in the code: ```np.clip(self.a3, epsilon, 1 - epsilon)```.\n",
    "\n",
    "Observation 5: Setting momentum can both increase or decrease the accuracy for our model, but it always decreases the loss. In a good case, it can increase or decrease our accruacy by 2%. (ranging from 88% to 91 % accuracy). It might because since our model weight and bias is initialized randomly, the momentum can either drive our model to a good or bad diretion based on the initial setting. From our experiments momentum = 0.7 is the best for our model. \n",
    "\n",
    "\n"
   ]
  },
  {
   "cell_type": "code",
   "execution_count": 110,
   "id": "03025cfe",
   "metadata": {
    "scrolled": true
   },
   "outputs": [
    {
     "data": {
      "image/png": "[encoded data removed]",
      "text/plain": [
       "<Figure size 800x600 with 1 Axes>"
      ]
     },
     "metadata": {},
     "output_type": "display_data"
    }
   ],
   "source": [
    "NN.acc_plot()"
   ]
  },
  {
   "cell_type": "code",
   "execution_count": 111,
   "id": "9ab7ad59",
   "metadata": {},
   "outputs": [
    {
     "name": "stdout",
     "output_type": "stream",
     "text": [
      "Accuracy: 90.34 %\n"
     ]
    }
   ],
   "source": [
    "NN.test(X_test,y_test)"
   ]
  },
  {
   "cell_type": "code",
   "execution_count": 1,
   "id": "1349438e",
   "metadata": {},
   "outputs": [
    {
     "ename": "KeyboardInterrupt",
     "evalue": "",
     "output_type": "error",
     "traceback": [
      "\u001b[0;31m---------------------------------------------------------------------------\u001b[0m",
      "\u001b[0;31mKeyboardInterrupt\u001b[0m                         Traceback (most recent call last)",
      "Cell \u001b[0;32mIn[1], line 1\u001b[0m\n\u001b[0;32m----> 1\u001b[0m \u001b[39mwhile\u001b[39;00m \u001b[39mTrue\u001b[39;00m: \n\u001b[1;32m      2\u001b[0m     \u001b[39mpass\u001b[39;00m\n",
      "\u001b[0;31mKeyboardInterrupt\u001b[0m: "
     ]
    }
   ],
   "source": [
    "while True: \n",
    "    pass"
   ]
  },
  {
   "cell_type": "code",
   "execution_count": null,
   "id": "a3790a78",
   "metadata": {},
   "outputs": [],
   "source": []
  }
 ],
 "metadata": {
  "kernelspec": {
   "display_name": "conda_c",
   "language": "python",
   "name": "python3"
  },
  "language_info": {
   "codemirror_mode": {
    "name": "ipython",
    "version": 3
   },
   "file_extension": ".py",
   "mimetype": "text/x-python",
   "name": "python",
   "nbconvert_exporter": "python",
   "pygments_lexer": "ipython3",
   "version": "3.10.9"
  },
  "vscode": {
   "interpreter": {
    "hash": "537c38dc6aa0112a8a14e691beb736aa4caf12763255772799d7c972e7b0d6bf"
   }
  }
 },
 "nbformat": 4,
 "nbformat_minor": 5
}
